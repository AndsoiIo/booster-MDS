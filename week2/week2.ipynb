{
 "cells": [
  {
   "cell_type": "markdown",
   "metadata": {},
   "source": [
    "### Стандартные средства языка Python\n",
    "##### неделя 2"
   ]
  },
  {
   "cell_type": "markdown",
   "metadata": {},
   "source": [
    "#### 2.1 Ошибки и исключения\n",
    "##### [шаг 6](https://stepik.org/lesson/24463/step/6?thread=solutions&unit=6771)"
   ]
  },
  {
   "cell_type": "markdown",
   "metadata": {},
   "source": [
    "_Вашей программе будет доступна функция foo, которая может бросать исключения._\n",
    "_Вам необходимо написать код, который запускает эту функцию, затем ловит исключения ArithmeticError, AssertionError, ZeroDivisionError и выводит имя пойманного исключения._\n",
    "_Пример решения, которое вы должны отправить на проверку._\n",
    "```\n",
    "try:\n",
    "    foo()\n",
    "except Exception:\n",
    "    print(\"Exception\")\n",
    "except BaseException:\n",
    "    print(\"BaseException\")\n",
    "```"
   ]
  },
  {
   "cell_type": "code",
   "execution_count": null,
   "metadata": {
    "scrolled": true
   },
   "outputs": [],
   "source": [
    "try:\n",
    "    foo()\n",
    "except ZeroDivisionError:\n",
    "    print(\"ZeroDivisionError\")\n",
    "except ArithmeticError:\n",
    "    print(\"ArithmeticError\")\n",
    "except AssertionError:\n",
    "    print(\"AssertionError\")"
   ]
  },
  {
   "cell_type": "markdown",
   "metadata": {},
   "source": [
    "#### 2.1 Ошибки и исключения\n",
    "##### [шаг 7](https://stepik.org/lesson/24463/step/7?unit=6771)"
   ]
  },
  {
   "cell_type": "markdown",
   "metadata": {},
   "source": [
    "_Вам дано описание наследования классов исключений в следующем формате.\n",
    "__<имя исключения 1> : <имя исключения 2> <имя исключения 3> ... <имя исключения k>__\n",
    "Это означает, что исключение 1 наследуется от исключения 2, исключения 3, и т. д._\n",
    "\n",
    "Или эквивалентно записи:\n",
    "\n",
    "```\n",
    "class Error1(Error2, Error3 ... ErrorK):\n",
    "    pass\n",
    "```\n",
    "\n",
    "Антон написал код, который выглядит следующим образом.\n",
    "```\n",
    "try:\n",
    "   foo()\n",
    "except <имя 1>:\n",
    "   print(\"<имя 1>\")\n",
    "except <имя 2>:\n",
    "   print(\"<имя 2>\")\n",
    "...\n",
    "\n",
    "```\n",
    "_Костя посмотрел на этот код и указал Антону на то, что некоторые исключения можно не ловить, так как ранее в коде будет пойман их предок. Но Антон не помнит какие исключения наследуются от каких. Помогите ему выйти из неловкого положения и напишите программу, которая будет определять обработку каких исключений можно удалить из кода.\n",
    "Важное примечание:\n",
    "В отличие от предыдущей задачи, типы исключений не созданы.\n",
    "Создавать классы исключений также не требуется\n",
    "Мы просим вас промоделировать этот процесс, и понять какие из исключений можно и не ловить, потому что мы уже ранее где-то поймали их предка_"
   ]
  },
  {
   "cell_type": "code",
   "execution_count": null,
   "metadata": {},
   "outputs": [],
   "source": [
    "tree = {}\n",
    "\n",
    "for _ in range(int(input())):\n",
    "    data = input().split()\n",
    "    if len(data[0]) == 1:\n",
    "        tree[data[0]] = []\n",
    "    else:\n",
    "        tree[data[0]] = data[2:]\n",
    "\n",
    "def isancestor(child, parent):\n",
    "    if child == parent:\n",
    "        return True\n",
    "    \n",
    "    for ancestor in tree[child]:\n",
    "        if isancestor(ancestor, parent):\n",
    "            return True\n",
    "        \n",
    "    return False\n",
    "\n",
    "extra_exceptions = set()\n",
    "for _ in range(int(input())):\n",
    "    child = input().strip()\n",
    "    for parent in extra_exceptions:\n",
    "        if isancestor(child, parent):\n",
    "            print(child)\n",
    "            break\n",
    "    extra_exceptions.add(child)"
   ]
  },
  {
   "cell_type": "markdown",
   "metadata": {},
   "source": [
    "#### 2.1 Ошибки и исключения\n",
    "##### [шаг 9](https://stepik.org/lesson/24463/step/9?unit=6771)"
   ]
  },
  {
   "cell_type": "markdown",
   "metadata": {},
   "source": [
    "_Реализуйте класс __PositiveList__, отнаследовав его от класса list, для хранения положительных целых чисел.\n",
    "Также реализуйте новое исключение __NonPositiveError__._\n",
    "\n",
    "_В классе __PositiveList__ переопределите метод append(self, x) таким образом, чтобы при попытке добавить неположительное целое число бросалось исключение __NonPositiveError__ и число не добавлялось, а при попытке добавить положительное целое число, число добавлялось бы как в стандартный list._\n",
    "\n",
    "_В данной задаче гарантируется, что в качестве аргумента x метода append всегда будет передаваться целое число._\n",
    "\n",
    "_Примечание:\n",
    "Положительными считаются числа, строго большие нуля._"
   ]
  },
  {
   "cell_type": "code",
   "execution_count": null,
   "metadata": {},
   "outputs": [],
   "source": [
    "class NonPositiveError(Exception):\n",
    "    pass\n",
    "\n",
    "\n",
    "class PositiveList(list):\n",
    "    def append(self, x):\n",
    "        if x <= 0:\n",
    "            raise (NonPositiveError)\n",
    "        else:\n",
    "            super(PositiveList, self).append(x)"
   ]
  },
  {
   "cell_type": "markdown",
   "metadata": {},
   "source": [
    "#### 2.2 Работа с кодом: модули и импорт\n",
    "##### [шаг 5](https://stepik.org/lesson/24466/step/5?unit=6773)"
   ]
  },
  {
   "cell_type": "markdown",
   "metadata": {},
   "source": [
    "_В первой строке дано три числа, соответствующие некоторой дате date -- год, месяц и день.\n",
    "Во второй строке дано одно число days -- число дней._\n",
    "\n",
    "_Вычислите и выведите год, месяц и день даты, которая наступит, когда с момента исходной даты date пройдет число дней, равное days._\n",
    "\n",
    "_Примечание:\n",
    "Для решения этой задачи используйте стандартный модуль datetime.\n",
    "Вам будут полезны класс datetime.date для хранения даты и класс datetime.timedelta﻿ для прибавления дней к дате._"
   ]
  },
  {
   "cell_type": "code",
   "execution_count": null,
   "metadata": {},
   "outputs": [],
   "source": [
    "from datetime import date, timedelta\n",
    "\n",
    "date = date(*map(int, input().split())) + timedelta(days=int(input()))\n",
    "print(date.year, date.month, date.day)"
   ]
  },
  {
   "cell_type": "markdown",
   "metadata": {},
   "source": [
    "#### 2.2 Работа с кодом: модули и импорт\n",
    "##### [шаг 9](https://stepik.org/lesson/24466/step/9?unit=6773)"
   ]
  },
  {
   "cell_type": "markdown",
   "metadata": {},
   "source": [
    "_Алиса владеет интересной информацией, которую хочет заполучить Боб.\n",
    "Алиса умна, поэтому она хранит свою информацию в зашифрованном файле.\n",
    "У Алисы плохая память, поэтому она хранит все свои пароли в открытом виде в текстовом файле._\n",
    "\n",
    "_Бобу удалось завладеть зашифрованным файлом с интересной информацией и файлом с паролями, но он не смог понять какой из паролей ему нужен. Помогите ему решить эту проблему._\n",
    "\n",
    "_Алиса зашифровала свою информацию с помощью библиотеки simple-crypt.\n",
    "Она представила информацию в виде строки, и затем записала в бинарный файл результат работы метода ```simplecrypt.encrypt.```_\n",
    "\n",
    "_Вам необходимо установить библиотеку simple-crypt, и с помощью метода ```simplecrypt.decrypt``` узнать, какой из паролей служит ключом для расшифровки файла с интересной информацией._\n",
    "\n",
    "_Ответом для данной задачи служит расшифрованная интересная информация Алисы._\n",
    "\n",
    "[Файл с информацией](https://stepik.org/media/attachments/lesson/24466/encrypted.bin)\n",
    "\n",
    "[Файл с паролями](https://stepik.org/media/attachments/lesson/24466/passwords.txt)\n",
    "\n",
    "__Примечание:__\n",
    "_Для того, чтобы считать все данные из бинарного файла, можно использовать, например, следующий код:_\n",
    "```\n",
    "with open(\"encrypted.bin\", \"rb\") as inp:\n",
    "    encrypted = inp.read()\n",
    "```"
   ]
  },
  {
   "cell_type": "code",
   "execution_count": 2,
   "metadata": {},
   "outputs": [
    {
     "name": "stdout",
     "output_type": "stream",
     "text": [
      "b'Alice loves Bob'\n"
     ]
    }
   ],
   "source": [
    "from simplecrypt import decrypt, DecryptionException\n",
    "\n",
    "enc = 'encrypted.bin'\n",
    "pas = 'passwords.txt'\n",
    "\n",
    "# get encrypted text\n",
    "with open(enc, 'rb') as enc:\n",
    "    enc = enc.read()\n",
    "# get passwords\n",
    "with open(pas, 'r') as pas:\n",
    "    passwords = pas.read().strip().split('\\n')\n",
    "\n",
    "text = None\n",
    "\n",
    "while passwords and text is None:\n",
    "    password = passwords.pop()\n",
    "    try:\n",
    "        text = decrypt(password, enc)\n",
    "    except DecryptionException:\n",
    "        pass\n",
    "\n",
    "print(text)"
   ]
  },
  {
   "cell_type": "markdown",
   "metadata": {},
   "source": [
    "#### 2.3 Итераторы и генераторы\n",
    "##### [шаг 4](https://stepik.org/lesson/24464/step/4?unit=6769)"
   ]
  },
  {
   "cell_type": "markdown",
   "metadata": {},
   "source": [
    "_Одним из самых часто используемых классов в Python является класс filter. Он принимает в конструкторе два аргумента a и f – последовательность и функцию, и позволяет проитерироваться только по таким элементам x из последовательности a, что f(x) равно True. Будем говорить, что в этом случае функция f допускает элемент x, а элемент x является допущенным._\n",
    "\n",
    "_В данной задаче мы просим вас реализовать класс multifilter, который будет выполнять ту же функцию, что и стандартный класс filter, но будет использовать не одну функцию, а несколько._ "
   ]
  },
  {
   "cell_type": "code",
   "execution_count": null,
   "metadata": {},
   "outputs": [],
   "source": [
    "class multifilter:\n",
    "    def judge_half(pos, neg):\n",
    "        if pos >= neg:\n",
    "            return True\n",
    "        return False\n",
    "\n",
    "    def judge_any(pos, neg):\n",
    "        if pos >= 1:\n",
    "            return True\n",
    "        return False\n",
    "\n",
    "    def judge_all(pos, neg):\n",
    "        if neg == 0:\n",
    "            return True\n",
    "        return False\n",
    "\n",
    "    def __init__(self, iterable, *funcs, judge=judge_any):\n",
    "        self.iterable  = iterable\n",
    "        self.funcs = funcs\n",
    "        self.judge = judge\n",
    "\n",
    "    def __iter__(self):\n",
    "        \n",
    "        iterator = []\n",
    "        for i in self.iterable:\n",
    "            pos = 0\n",
    "            neg = 0\n",
    "            for func in self.funcs:\n",
    "                if func(i):\n",
    "                    pos += 1\n",
    "                else:\n",
    "                    neg += 1\n",
    "            if self.judge(pos, neg):\n",
    "                yield i\n",
    "            else:\n",
    "                continue"
   ]
  },
  {
   "cell_type": "markdown",
   "metadata": {},
   "source": [
    "#### 2.3 Итераторы и генераторы\n",
    "##### [шаг 5](https://stepik.org/lesson/24464/step/5?unit=6769)"
   ]
  },
  {
   "cell_type": "markdown",
   "metadata": {},
   "source": [
    "_Целое положительное число называется простым, если оно имеет ровно два различных делителя, то есть делится только на единицу и на само себя.\n",
    "Например, число 2 является простым, так как делится только на 1 и 2. Также простыми являются, например, числа 3, 5, 31, и еще бесконечно много чисел.\n",
    "Число 4, например, не является простым, так как имеет три делителя – 1, 2, 4. Также простым не является число 1, так как оно имеет ровно один делитель – 1._\n",
    "\n",
    "_Реализуйте функцию-генератор primes, которая будет генерировать простые числа в порядке возрастания, начиная с числа 2._\n",
    "\n",
    "__Пример использования:__\n",
    "```\n",
    "print(list(itertools.takewhile(lambda x : x <= 31, primes())))\n",
    "# [2, 3, 5, 7, 11, 13, 17, 19, 23, 29, 31]\n",
    "```"
   ]
  },
  {
   "cell_type": "code",
   "execution_count": null,
   "metadata": {},
   "outputs": [],
   "source": [
    "from math import factorial\n",
    "\n",
    "def primes():\n",
    "    p = 2\n",
    "    while True:\n",
    "        if not (factorial(n - 1) + 1) % p:\n",
    "            yield p\n",
    "        p += 1"
   ]
  },
  {
   "cell_type": "markdown",
   "metadata": {},
   "source": [
    "#### 2.4 Работа с файловой системой и файлами\n",
    "##### [шаг 4](https://stepik.org/lesson/24465/step/4?unit=6772)"
   ]
  },
  {
   "cell_type": "markdown",
   "metadata": {},
   "source": [
    "_Вам дается текстовый файл, содержащий некоторое количество непустых строк.\n",
    "На основе него сгенерируйте новый текстовый файл, содержащий те же строки в обратном порядке._"
   ]
  },
  {
   "cell_type": "code",
   "execution_count": null,
   "metadata": {},
   "outputs": [],
   "source": [
    "input_file = ''\n",
    "output = 'output_file.txt'\n",
    "\n",
    "with open(input_file, 'r') as file, open(output, 'w') as output:\n",
    "    lines = file.readlines()\n",
    "    output.writelines(lines[::-1])"
   ]
  },
  {
   "cell_type": "markdown",
   "metadata": {},
   "source": [
    "#### 2.4 Работа с файловой системой и файлами\n",
    "##### [шаг 6](https://stepik.org/lesson/24465/step/6?unit=6772)"
   ]
  },
  {
   "cell_type": "markdown",
   "metadata": {},
   "source": [
    "_Вам дана в архиве ([ссылка](https://stepik.org/media/attachments/lesson/24465/main.zip)) файловая структура, состоящая из директорий и файлов._\n",
    "\n",
    "_Вам необходимо распаковать этот архив, и затем найти в данной в файловой структуре все директории, в которых есть хотя бы один файл с расширением \".py\"._\n",
    "\n",
    "_Ответом на данную задачу будет являться файл со списком таких директорий, отсортированных в лексикографическом порядке._"
   ]
  },
  {
   "cell_type": "code",
   "execution_count": null,
   "metadata": {},
   "outputs": [],
   "source": [
    "import os\n",
    "\n",
    "dirs_to_sort = set()\n",
    "\n",
    "for current_dir, _, files in os.walk('main'):\n",
    "    for file in files:\n",
    "        if '.py' in file and current_dir not in dirs_to_sort:\n",
    "            dirs_to_sort.add(current_dir)\n",
    "\n",
    "\n",
    "dirs_to_sort = sorted(sorted(dirs_to_sort), key=str.upper)\n",
    "print('\\n'.join(dirs_to_sort))"
   ]
  },
  {
   "cell_type": "markdown",
   "metadata": {},
   "source": [
    "#### 2.5 Работа с функциями: functool и лямбда функции\n",
    "##### [шаг 6](https://stepik.org/lesson/24468/step/6?unit=6770)"
   ]
  },
  {
   "cell_type": "markdown",
   "metadata": {},
   "source": [
    "_Лямбда функции предоставляют нам удобный способ создать функцию «прямо на месте».\n",
    "Но иногда, когда нужно создавать много однотипных лямбда функций, еще удобнее будет создать функцию, которая будет их генерировать._\n",
    "\n",
    "_Реализуйте функцию mod_checker(x, mod=0), которая будет генерировать лямбда функцию от одного аргумента y, которая будет возвращать True, если остаток от деления y на x равен mod, и False иначе._\n",
    "\n",
    "__Пример использования:__\n",
    "```\n",
    "mod_3 = mod_checker(3)\n",
    "\n",
    "print(mod_3(3)) # True\n",
    "print(mod_3(4)) # False\n",
    "\n",
    "mod_3_1 = mod_checker(3, 1)\n",
    "print(mod_3_1(4)) # True\n",
    "```"
   ]
  },
  {
   "cell_type": "code",
   "execution_count": null,
   "metadata": {},
   "outputs": [],
   "source": [
    "mod_checker = lambda x, mod=0: lambda y: y%x == mod"
   ]
  },
  {
   "cell_type": "code",
   "execution_count": null,
   "metadata": {},
   "outputs": [],
   "source": []
  }
 ],
 "metadata": {
  "kernelspec": {
   "display_name": "Python 3",
   "language": "python",
   "name": "python3"
  },
  "language_info": {
   "codemirror_mode": {
    "name": "ipython",
    "version": 3
   },
   "file_extension": ".py",
   "mimetype": "text/x-python",
   "name": "python",
   "nbconvert_exporter": "python",
   "pygments_lexer": "ipython3",
   "version": "3.7.1"
  }
 },
 "nbformat": 4,
 "nbformat_minor": 2
}
