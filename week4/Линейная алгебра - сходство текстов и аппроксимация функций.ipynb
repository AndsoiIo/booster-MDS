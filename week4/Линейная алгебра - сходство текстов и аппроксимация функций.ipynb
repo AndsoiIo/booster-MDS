{
 "cells": [
  {
   "cell_type": "markdown",
   "metadata": {},
   "source": [
    "### Линейная алгебра: сходство текстов и аппроксимация функций"
   ]
  },
  {
   "cell_type": "markdown",
   "metadata": {},
   "source": [
    "## Задача 1: сравнение предложений"
   ]
  },
  {
   "cell_type": "code",
   "execution_count": 252,
   "metadata": {},
   "outputs": [],
   "source": [
    "with open('sentences.txt') as file:\n",
    "# приводим к нижнему регистру и удаляем перевод строк (\"\\n\")\n",
    "    sentences = file.readlines()\n",
    "    file.seek(0) # вернули каретку на 0 символ\n",
    "    text = [sentence.lower().strip() for sentence in sentences] "
   ]
  },
  {
   "cell_type": "code",
   "execution_count": 253,
   "metadata": {},
   "outputs": [
    {
     "data": {
      "text/plain": [
       "['in comparison to dogs, cats have not undergone major changes during the domestication process.',\n",
       " 'as cat simply catenates streams of bytes, it can be also used to concatenate binary files, where it will just concatenate sequence of bytes.']"
      ]
     },
     "execution_count": 253,
     "metadata": {},
     "output_type": "execute_result"
    }
   ],
   "source": [
    "text[:2]"
   ]
  },
  {
   "cell_type": "code",
   "execution_count": 254,
   "metadata": {},
   "outputs": [],
   "source": [
    "import re"
   ]
  },
  {
   "cell_type": "code",
   "execution_count": 255,
   "metadata": {},
   "outputs": [],
   "source": [
    "tokenized_list = [re.split(\"[^a-z]\", sentence) for sentence in text]\n",
    "# чистим результат от пустых значений\n",
    "tokenized_text = []\n",
    "for sentence in tokenized_list:\n",
    "    tokenized_text += [word for word in sentence if word]"
   ]
  },
  {
   "cell_type": "code",
   "execution_count": 256,
   "metadata": {},
   "outputs": [
    {
     "name": "stdout",
     "output_type": "stream",
     "text": [
      "Общее количество слов: 484\n",
      "Уникальные слова: 254\n"
     ]
    }
   ],
   "source": [
    "print(f'Общее количество слов: {len(tokenized_text)}')\n",
    "# только уникальные слова\n",
    "unique = list(set(tokenized_text))\n",
    "print(f'Уникальные слова: {len(unique)}')"
   ]
  },
  {
   "cell_type": "code",
   "execution_count": 257,
   "metadata": {},
   "outputs": [
    {
     "name": "stdout",
     "output_type": "stream",
     "text": [
      "{'arguments': 0, 'read': 1, 'lines': 2, 'are': 3, 'every': 4, 'year': 5, 'selection': 6, 'adjacent': 7, 'an': 8, 'legibility': 9, 'artificial': 10, 'enhancements': 11, 'entirely': 12, 'piped': 13, 'starting': 14, 'delete': 15, 'were': 16, 'unnecessary': 17, 'safer': 18, 'information': 19, 'world': 20, 'diploid': 21, 'can': 22, 'single': 23, 'keyboards': 24, 'for': 25, 'type': 26, 'features': 27, 'streams': 28, 'releases': 29, 'more': 30, 'left': 31, 'switch': 32, 'closest': 33, 'dogs': 34, 'so': 35, 'vermin': 36, 'deliberately': 37, 'mac': 38, 'second': 39, 'comparison': 40, 'symbol': 41, 'release': 42, 'available': 43, 'os': 44, 'won': 45, 'running': 46, 'be': 47, 'error': 48, 'tiger': 49, 'leopard': 50, 'community': 51, 'kg': 52, 'between': 53, 's': 54, 'permanently': 55, 'over': 56, 'upgrade': 57, 'cat': 58, 'common': 59, 'too': 60, 'predators': 61, 'factory': 62, 'terms': 63, 'domesticated': 64, 'installed': 65, 'major': 66, 'new': 67, 'released': 68, 'disk': 69, 'july': 70, 'domestication': 71, 'organisms': 72, 'installation': 73, 'started': 74, 'will': 75, 'offered': 76, 'computers': 77, 'command': 78, 'non': 79, 'just': 80, 'one': 81, 'concern': 82, 'default': 83, 'safari': 84, 'where': 85, 'is': 86, 'animals': 87, 'received': 88, 'recent': 89, 'time': 90, 'run': 91, 'update': 92, 'clear': 93, 'connected': 94, 'tamed': 95, 'weighing': 96, 'store': 97, 'with': 98, 'of': 99, 'download': 100, 'in': 101, 'lion': 102, 'basic': 103, 'part': 104, 'no': 105, 'unix': 106, 'which': 107, 'roughly': 108, 'concatenate': 109, 'named': 110, 'apple': 111, 'genus': 112, 'binary': 113, 'place': 114, 'learned': 115, 'you': 116, 'linux': 117, 'other': 118, 'as': 119, 'standard': 120, 'redirected': 121, 'any': 122, 'app': 123, 'three': 124, 'felis': 125, 'that': 126, 'ears': 127, 'cats': 128, 'mid': 129, 'purchase': 130, 'online': 131, 'processors': 132, 'versions': 133, 'typically': 134, 'to': 135, 'based': 136, 'may': 137, 'stdout': 138, 'sounds': 139, 'create': 140, 'yosemite': 141, 'if': 142, 'most': 143, 'size': 144, 'using': 145, 'it': 146, 'similar': 147, 'allows': 148, 'marks': 149, 'by': 150, 'they': 151, 'developed': 152, 'have': 153, 'two': 154, 'however': 155, 'flow': 156, 'on': 157, 'according': 158, 'file': 159, 'lb': 160, 'rather': 161, 'off': 162, 'and': 163, 'chromosomes': 164, 'faint': 165, 'version': 166, 'since': 167, 'during': 168, 'receives': 169, 'frequency': 170, 'often': 171, 'interactive': 172, 'displays': 173, 'changes': 174, 'files': 175, 'firmware': 176, 'predecessor': 177, 'some': 178, 'their': 179, 'osx': 180, 'commands': 181, 'mavericks': 182, 'the': 183, 'redirection': 184, 'count': 185, 'a': 186, 'used': 187, 'wild': 188, 'was': 189, 'successor': 190, 'intel': 191, 'incremental': 192, 'releasing': 193, 'or': 194, 'symbols': 195, 'also': 196, 'use': 197, 'editions': 198, 'drive': 199, 'bytes': 200, 'needing': 201, 't': 202, 'through': 203, 'not': 204, 'undergone': 205, 'small': 206, 'high': 207, 'without': 208, 'has': 209, 'longer': 210, 'sequence': 211, 'mountain': 212, 'hear': 213, 'now': 214, 'wrong': 215, 'genes': 216, 'content': 217, 'useful': 218, 'patch': 219, 'right': 220, 'people': 221, 'installs': 222, 'stdin': 223, 'simply': 224, 'contains': 225, 'its': 226, 'ancestor': 227, 'from': 228, 'catenates': 229, 'possess': 230, 'members': 231, 'such': 232, 'separate': 233, 'domestic': 234, 'pipes': 235, 'made': 236, 'than': 237, 'those': 238, 'moved': 239, 'later': 240, 'need': 241, 'when': 242, 'allow': 243, 'human': 244, 'external': 245, 'process': 246, 'october': 247, 'x': 248, 'mice': 249, 'fifth': 250, 'output': 251, 'both': 252, 'instead': 253}\n"
     ]
    }
   ],
   "source": [
    "# Составьте список всех слов, встречающихся в предложениях.\n",
    "# Сопоставьте каждому слову индекс от нуля до (d - 1), \n",
    "# где d — число различных слов в предложениях.\n",
    "words = {unique[i]:i for i in range(len(unique))}\n",
    "print(words)"
   ]
  },
  {
   "cell_type": "code",
   "execution_count": 258,
   "metadata": {},
   "outputs": [],
   "source": [
    "import numpy as np"
   ]
  },
  {
   "cell_type": "code",
   "execution_count": 265,
   "metadata": {},
   "outputs": [
    {
     "data": {
      "text/plain": [
       "array([0., 0., 0., 0., 0., 0., 0., 0., 0., 0., 0., 0., 0., 0., 0., 0., 0.,\n",
       "       0., 0., 0., 0., 0., 0., 0., 0., 0., 0., 0., 0., 0., 0., 0., 0., 0.,\n",
       "       1., 0., 0., 0., 0., 0., 1., 0., 0., 0., 0., 0., 0., 0., 0., 0., 0.,\n",
       "       0., 0., 0., 0., 0., 0., 0., 0., 0., 0., 0., 0., 0., 0., 0., 1., 0.,\n",
       "       0., 0., 0., 1., 0., 0., 0., 0., 0., 0., 0., 0., 0., 0., 0., 0., 0.,\n",
       "       0., 0., 0., 0., 0., 0., 0., 0., 0., 0., 0., 0., 0., 0., 0., 0., 1.,\n",
       "       0., 0., 0., 0., 0., 0., 0., 0., 0., 0., 0., 0., 0., 0., 0., 0., 0.,\n",
       "       0., 0., 0., 0., 0., 0., 0., 0., 0., 1., 0., 0., 0., 0., 0., 0., 1.,\n",
       "       0., 0., 0., 0., 0., 0., 0., 0., 0., 0., 0., 0., 0., 0., 0., 0., 0.,\n",
       "       1., 0., 0., 0., 0., 0., 0., 0., 0., 0., 0., 0., 0., 0., 0., 1., 0.,\n",
       "       0., 0., 0., 0., 1., 0., 0., 0., 0., 0., 0., 0., 0., 1., 0., 0., 0.,\n",
       "       0., 0., 0., 0., 0., 0., 0., 0., 0., 0., 0., 0., 0., 0., 0., 0., 0.,\n",
       "       1., 1., 0., 0., 0., 0., 0., 0., 0., 0., 0., 0., 0., 0., 0., 0., 0.,\n",
       "       0., 0., 0., 0., 0., 0., 0., 0., 0., 0., 0., 0., 0., 0., 0., 0., 0.,\n",
       "       0., 0., 0., 0., 0., 0., 0., 0., 1., 0., 0., 0., 0., 0., 0., 0.])"
      ]
     },
     "execution_count": 265,
     "metadata": {},
     "output_type": "execute_result"
    }
   ],
   "source": [
    "# матрица размера n * d, где n — число предложений\n",
    "d = len(sentences)\n",
    "n = len(unique)\n",
    "matrix = np.zeros((d, n))\n",
    "matrix.shape\n",
    "\n",
    "for j_word in words:\n",
    "    for i_sent in range(d):\n",
    "        matrix[i_sent][words.get(j_word)] = tokenized_list[i_sent].count(j_word)\n",
    "\n",
    "matrix[0]"
   ]
  },
  {
   "cell_type": "code",
   "execution_count": 266,
   "metadata": {},
   "outputs": [],
   "source": [
    "from scipy.spatial import distance"
   ]
  },
  {
   "cell_type": "code",
   "execution_count": 273,
   "metadata": {},
   "outputs": [],
   "source": [
    "result = {n : distance.cosine(matrix[0], matrix[n]) for n in range(d)}\n",
    "\n",
    "result = sorted(result.items(), key=lambda x: x[1], reverse=False)\n",
    "n1, n2 = result[1][0], result[2][0]"
   ]
  },
  {
   "cell_type": "code",
   "execution_count": 274,
   "metadata": {},
   "outputs": [
    {
     "data": {
      "text/plain": [
       "(6, 4)"
      ]
     },
     "execution_count": 274,
     "metadata": {},
     "output_type": "execute_result"
    }
   ],
   "source": [
    "n1, n2"
   ]
  },
  {
   "cell_type": "code",
   "execution_count": 275,
   "metadata": {},
   "outputs": [
    {
     "name": "stdout",
     "output_type": "stream",
     "text": [
      "6 4"
     ]
    }
   ],
   "source": [
    "with open('result.txt', 'w') as f:\n",
    "    f.write(f'{n1} {n2}')\n",
    "\n",
    "!cat result.txt"
   ]
  },
  {
   "cell_type": "code",
   "execution_count": null,
   "metadata": {},
   "outputs": [],
   "source": []
  },
  {
   "cell_type": "markdown",
   "metadata": {},
   "source": [
    "## Задача 2: аппроксимация функции"
   ]
  },
  {
   "cell_type": "code",
   "execution_count": 1,
   "metadata": {},
   "outputs": [],
   "source": [
    "import numpy as np\n",
    "from matplotlib import pylab as plt\n",
    "from jupyterthemes import jtplot\n",
    "\n",
    "%matplotlib inline\n",
    "\n",
    "jtplot.style()"
   ]
  },
  {
   "cell_type": "code",
   "execution_count": 20,
   "metadata": {},
   "outputs": [],
   "source": [
    "#  Рассмотрим сложную математическую функцию на отрезке [1, 15]:\n",
    "#  f(x) = sin(x / 5) * exp(x / 10) + 5 * exp(-x / 2)\n",
    "def f(x):\n",
    "    return np.sin(x / 5) * np.exp(x / 10) + 5 * np.exp(-x / 2)\n",
    "\n",
    "origin_x = np.arange(1,  16)\n",
    "origin_y = np.array(f(x))"
   ]
  },
  {
   "cell_type": "code",
   "execution_count": 22,
   "metadata": {},
   "outputs": [
    {
     "data": {
      "text/plain": [
       "[<matplotlib.lines.Line2D at 0x7fe8d9827a20>]"
      ]
     },
     "execution_count": 22,
     "metadata": {},
     "output_type": "execute_result"
    },
    {
     "data": {
      "image/png": "[encoded data removed]",
      "text/plain": [
       "<Figure size 432x288 with 1 Axes>"
      ]
     },
     "metadata": {
      "needs_background": "dark"
     },
     "output_type": "display_data"
    }
   ],
   "source": [
    "plt.plot(origin_x,origin_y)"
   ]
  },
  {
   "cell_type": "code",
   "execution_count": 32,
   "metadata": {},
   "outputs": [
    {
     "data": {
      "text/plain": [
       "array([ 3.43914511, -0.18692825])"
      ]
     },
     "execution_count": 32,
     "metadata": {},
     "output_type": "execute_result"
    }
   ],
   "source": [
    "# задайте матрицу коэффициентов A и свободный вектор b\n",
    "# для многочлена первой степени,\n",
    "# который должен совпадать с функцией f в точках 1 и 15.\n",
    "matrix_A = np.array([[1, 1],\n",
    "                     [1, 15]])\n",
    "vector_b = np.array(list(map(f, [1, 15])))\n",
    "\n",
    "result_1 = np.linalg.solve(matrix_A, vector_b)\n",
    "result_1"
   ]
  },
  {
   "cell_type": "code",
   "execution_count": 44,
   "metadata": {},
   "outputs": [],
   "source": [
    "# найдем координаты\n",
    "x1 = [1, 15]\n",
    "y1 = np.polynomial.polynomial.polyval(x1, result_1, tensor=True)"
   ]
  },
  {
   "cell_type": "code",
   "execution_count": 45,
   "metadata": {},
   "outputs": [
    {
     "data": {
      "text/plain": [
       "[<matplotlib.lines.Line2D at 0x7fe8d932dd30>]"
      ]
     },
     "execution_count": 45,
     "metadata": {},
     "output_type": "execute_result"
    },
    {
     "data": {
      "image/png": "[encoded data removed]",
      "text/plain": [
       "<Figure size 432x288 with 1 Axes>"
      ]
     },
     "metadata": {
      "needs_background": "dark"
     },
     "output_type": "display_data"
    }
   ],
   "source": [
    "plt.plot(origin_x,origin_y)\n",
    "plt.plot(x1,y1)"
   ]
  },
  {
   "cell_type": "markdown",
   "metadata": {},
   "source": [
    "Вопрос: Хорошо ли он приближает исходную функцию?\n",
    "\n",
    "Ответ: нет"
   ]
  },
  {
   "cell_type": "code",
   "execution_count": 39,
   "metadata": {},
   "outputs": [
    {
     "data": {
      "text/plain": [
       "array([ 3.32512949, -0.06531159, -0.00760104])"
      ]
     },
     "execution_count": 39,
     "metadata": {},
     "output_type": "execute_result"
    }
   ],
   "source": [
    "# Повторите те же шаги для многочлена второй степени,\n",
    "# который совпадает с функцией f в точках 1, 8 и 15.\n",
    "matrix_A = np.array([[1, 1, 1],\n",
    "                     [1, 8, 8**2],\n",
    "                     [1, 15, 15**2]])\n",
    "vector_b = np.array(list(map(f, [1, 8, 15])))\n",
    "\n",
    "result_2 = np.linalg.solve(matrix_A, vector_b)\n",
    "result_2"
   ]
  },
  {
   "cell_type": "code",
   "execution_count": 47,
   "metadata": {},
   "outputs": [],
   "source": [
    "# найдем координаты\n",
    "x2 = [1, 8, 15]\n",
    "y2 = np.polynomial.polynomial.polyval(x2, result_2, tensor=True)"
   ]
  },
  {
   "cell_type": "code",
   "execution_count": 48,
   "metadata": {
    "scrolled": true
   },
   "outputs": [
    {
     "data": {
      "text/plain": [
       "[<matplotlib.lines.Line2D at 0x7fe8d92b4898>]"
      ]
     },
     "execution_count": 48,
     "metadata": {},
     "output_type": "execute_result"
    },
    {
     "data": {
      "image/png": "[encoded data removed]",
      "text/plain": [
       "<Figure size 432x288 with 1 Axes>"
      ]
     },
     "metadata": {
      "needs_background": "dark"
     },
     "output_type": "display_data"
    }
   ],
   "source": [
    "plt.plot(origin_x,origin_y)\n",
    "plt.plot(x1,y1)\n",
    "plt.plot(x2,y2)"
   ]
  },
  {
   "cell_type": "markdown",
   "metadata": {},
   "source": [
    "Вопрос: Улучшилось ли качество аппроксимации?\n",
    "\n",
    "Ответ: Незначительно."
   ]
  },
  {
   "cell_type": "code",
   "execution_count": 41,
   "metadata": {},
   "outputs": [
    {
     "data": {
      "text/plain": [
       "array([ 4.36264154, -1.29552587,  0.19333685, -0.00823565])"
      ]
     },
     "execution_count": 41,
     "metadata": {},
     "output_type": "execute_result"
    }
   ],
   "source": [
    "matrix_A = np.array([[1, 1, 1, 1],\n",
    "                     [1, 4, 4**2, 4**3],\n",
    "                     [1, 10, 10**2, 10**3],\n",
    "                     [1, 15, 15**2, 15**3]])\n",
    "vector_b = np.array(list(map(f, [1, 4, 10, 15])))\n",
    "\n",
    "result_3 = np.linalg.solve(matrix_A, vector_b)\n",
    "result_3"
   ]
  },
  {
   "cell_type": "code",
   "execution_count": 50,
   "metadata": {},
   "outputs": [],
   "source": [
    "# найдем координаты\n",
    "x3 = [1, 4, 10, 15]\n",
    "y3 = np.polynomial.polynomial.polyval(x3, result_3, tensor=True)"
   ]
  },
  {
   "cell_type": "code",
   "execution_count": 51,
   "metadata": {},
   "outputs": [
    {
     "data": {
      "text/plain": [
       "[<matplotlib.lines.Line2D at 0x7fe8d92954a8>]"
      ]
     },
     "execution_count": 51,
     "metadata": {},
     "output_type": "execute_result"
    },
    {
     "data": {
      "image/png": "[encoded data removed]",
      "text/plain": [
       "<Figure size 432x288 with 1 Axes>"
      ]
     },
     "metadata": {
      "needs_background": "dark"
     },
     "output_type": "display_data"
    }
   ],
   "source": [
    "plt.plot(origin_x,origin_y)\n",
    "plt.plot(x1,y1)\n",
    "plt.plot(x2,y2)\n",
    "plt.plot(x3,y3)"
   ]
  },
  {
   "cell_type": "markdown",
   "metadata": {},
   "source": [
    "Вопрос: Хорошо ли он аппроксимирует функцию?\n",
    "\n",
    "Ответ: Достаточно(?)"
   ]
  },
  {
   "cell_type": "code",
   "execution_count": 54,
   "metadata": {},
   "outputs": [],
   "source": [
    "with open('submission-2.txt', 'w') as file:\n",
    "    file.write(' '.join([f'{i:.2f}' for i in result_3]))"
   ]
  },
  {
   "cell_type": "code",
   "execution_count": 55,
   "metadata": {},
   "outputs": [
    {
     "name": "stdout",
     "output_type": "stream",
     "text": [
      "4.36 -1.30 0.19 -0.01"
     ]
    }
   ],
   "source": [
    "!cat submission-2.txt"
   ]
  },
  {
   "cell_type": "code",
   "execution_count": null,
   "metadata": {},
   "outputs": [],
   "source": []
  }
 ],
 "metadata": {
  "kernelspec": {
   "display_name": "Python 3",
   "language": "python",
   "name": "python3"
  },
  "language_info": {
   "codemirror_mode": {
    "name": "ipython",
    "version": 3
   },
   "file_extension": ".py",
   "mimetype": "text/x-python",
   "name": "python",
   "nbconvert_exporter": "python",
   "pygments_lexer": "ipython3",
   "version": "3.7.1"
  }
 },
 "nbformat": 4,
 "nbformat_minor": 2
}
